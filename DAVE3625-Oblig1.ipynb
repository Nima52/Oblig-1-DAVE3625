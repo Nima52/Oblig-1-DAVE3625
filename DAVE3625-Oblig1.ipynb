{
 "cells": [
  {
   "cell_type": "code",
   "execution_count": null,
   "id": "27df14cd-8dda-4029-84c0-2499ad41477a",
   "metadata": {},
   "outputs": [],
   "source": [
    "# Import modules\n",
    "import pandas as pd\n",
    "import numpy as np\n",
    "import matplotlib.pyplot as plt\n",
    "import seaborn as sns\n",
    "\n",
    "# Import modules for machine learning\n",
    "from sklearn.model_selection import train_test_split, GridSearchCV\n",
    "from sklearn.tree import DecisionTreeClassifier, plot_tree\n",
    "from sklearn.ensemble import RandomForestClassifier\n",
    "from sklearn.naive_bayes import GaussianNB, MultinomialNB, BernoulliNB\n",
    "from sklearn.preprocessing import LabelEncoder, StandardScaler, OneHotEncoder\n",
    "from sklearn.metrics import confusion_matrix, accuracy_score, classification_report\n",
    "\n",
    "Grc_df = pd.read_csv('Grocery_dataset.csv', sep=',')"
   ]
  },
  {
   "cell_type": "code",
   "execution_count": null,
   "id": "6f21b0ec-f38d-4b87-9a20-e1f8391a3c03",
   "metadata": {},
   "outputs": [],
   "source": [
    "# 1. Read the CSV file in Pandas and create a DataFrame named Grc_df. What is the number of\n",
    "# rows and columns in Grc_df? Print the first 10 and last 10 rows of Grc_df.\n",
    "\n",
    "print(\"\\n Executing first task...\")\n",
    "print(f\"Number of rows and columns in Grc_df: {Grc_df.shape}\")\n",
    "print(f\"First 10 rows of Grc_df: {Grc_df.head(10)}\")\n",
    "print(f\"Last 10 rows of Grc_df: {Grc_df.tail(10)}\")\n"
   ]
  },
  {
   "cell_type": "code",
   "execution_count": null,
   "id": "ed014a33-9bd1-446c-88d6-38106bbfb86b",
   "metadata": {},
   "outputs": [],
   "source": [
    "# 2. Are there any null values in the Grc_df? If yes, then in which columns and how many?\n",
    "# Finally, handle these null values using any strategy shown during the labs\n",
    "\n",
    "print(\"\\n Executing second task...\")\n",
    "print(f\"Null values in Grc_df: {Grc_df.isnull().sum()}\")\n",
    "# Item_Weight    818 empty\n",
    "# Outlet_Size    1439 empty\n",
    "\n",
    "# Replace empty strings with NaN\n",
    "Grc_df = Grc_df.replace(r'^\\s*$', np.nan, regex=True)\n",
    "\n",
    "# Fill missing values for Item_Weight column with the median, based on row groups\n",
    "Grc_df[\"Item_Weight\"] = Grc_df.groupby(\"Item_Identifier\")[\"Item_Weight\"].transform(lambda x: x.fillna(x.median()))\n",
    "\n",
    "# Fill missing values for Outlet_Size column with the mode, based on row groups\n",
    "Grc_df['Outlet_Size'] = Grc_df.groupby('Outlet_Identifier')['Outlet_Size'].transform(lambda x: x.fillna(x.mode()[0] if not x.mode().empty else 'Medium'))\n",
    "\n",
    "# Drop rows with any NaN values\n",
    "Grc_df.dropna(inplace = True)"
   ]
  },
  {
   "cell_type": "code",
   "execution_count": null,
   "id": "c15763eb-17fe-46d4-8df0-4da7acf7d15b",
   "metadata": {},
   "outputs": [],
   "source": [
    "# 3. How many unique Outlet Sizes are there in the Grc_df? Which outlet size is maximum, and\n",
    "# which is minimum? \n",
    "\n",
    "print(\"\\n Executing third task...\")\n",
    "print(f\"Unique Outlet Sizes in Grc_df: {Grc_df['Outlet_Size'].unique()}\")\n",
    "print(f\"Maximum Outlet Size in Grc_df: {Grc_df['Outlet_Size'].value_counts().idxmax()}\")\n",
    "print(f\"Minimum Outlet Size in Grc_df: {Grc_df['Outlet_Size'].value_counts().idxmin()}\")"
   ]
  },
  {
   "cell_type": "code",
   "execution_count": null,
   "id": "bc3445ec-7818-4fff-aaa4-de077b56ff14",
   "metadata": {},
   "outputs": [],
   "source": [
    "# 4.How many unique Item Fat Content types are in the Grc_df? List them. Do you see any\n",
    "# issues with the Item Fat Content types? If yes, then handle this issue. \n",
    "\n",
    "print(\"\\n Executing fourth task...\")\n",
    "print(f\"Unique Item Fat Content types in Grc_df: {Grc_df['Item_Fat_Content'].unique()}\")\n",
    "Grc_df['Item_Fat_Content'] = Grc_df['Item_Fat_Content'].replace({\n",
    "    'reg': 'Regular',\n",
    "    'LF': 'Low Fat',\n",
    "    'low fat': 'Low Fat'\n",
    "})"
   ]
  },
  {
   "cell_type": "code",
   "execution_count": null,
   "id": "0fbad41f-b479-4c78-8385-651d8fee09c2",
   "metadata": {},
   "outputs": [],
   "source": [
    "# 5. Drop the columns having index values of 0, 6 and create a new DataFrame Grc_new_df. \n",
    "\n",
    "print(\"\\n Executing fifth task...\")\n",
    "Grc_new_df = Grc_df.drop(Grc_df.columns[[0, 6]], axis=1)\n",
    "print(f\"Columns dropped. New DataFrame Grc_new_df created with shape: {Grc_new_df.shape}\")"
   ]
  },
  {
   "cell_type": "code",
   "execution_count": null,
   "id": "926d3ae6-ed02-4efc-9a43-cb7d02a6cd0c",
   "metadata": {
    "scrolled": true
   },
   "outputs": [],
   "source": [
    "# 8. Concatenate the DataFrames SupType_1 and SupType_2 to create a new DataFrame\n",
    "# Grc_Concat_df and sort it in ascending order based on the column Item_Outlet_Sales.\n",
    "# What is the Outlet_Location_type of the store with the lowest sales?\n",
    "\n",
    "print(\"\\n Executing eighth task...\")\n",
    "\n",
    "Grc_Concat_df = pd.concat([SupType_1, SupType_2], axis=0, ignore_index=True)\n",
    "Grc_Concat_df = Grc_Concat_df.sort_values(by='Item_Outlet_Sales', ascending=True)\n",
    "\n",
    "lowest_row = Grc_Concat_df.iloc[0]\n",
    "print(\"First 5 rows after sorting by Item_Outlet_Sales: \")\n",
    "print(Grc_Concat_df[['Outlet_Type', 'Outlet_Location_Type', 'Item_Outlet_Sales']].head(5))\n",
    "\n",
    "print(f\"\\nOutlet_Location_Type of the store with the lowest sales \"\n",
    "      f\"({lowest_row['Item_Outlet_Sales']:.2f}): {lowest_row['Outlet_Location_Type']}\")"
   ]
  },
  {
   "cell_type": "code",
   "execution_count": null,
   "id": "ec0ce75e-0be6-460b-bd24-3fdc7cbd326c",
   "metadata": {},
   "outputs": [],
   "source": [
    "# 9. Using columns Outlet_Size and Outlet_Location_Type to create a multiple index for\n",
    "# Grc_Concat_df.\n",
    "\n",
    "print(\"\\n Executing ninth task...\")\n",
    "\n",
    "Grc_Concat_df_multi = Grc_Concat_df.set_index(['Outlet_Size', 'Outlet_Location_Type'])\n",
    "print(\"MultiIndex set. Preview:\")\n",
    "print(Grc_Concat_df_multi.head(5))"
   ]
  },
  {
   "cell_type": "code",
   "execution_count": null,
   "id": "0c9b3bac-875a-479d-89f3-0bddcf26a7a2",
   "metadata": {},
   "outputs": [],
   "source": []
  }
 ],
 "metadata": {
  "kernelspec": {
   "display_name": "Python 3 (ipykernel)",
   "language": "python",
   "name": "python3"
  },
  "language_info": {
   "codemirror_mode": {
    "name": "ipython",
    "version": 3
   },
   "file_extension": ".py",
   "mimetype": "text/x-python",
   "name": "python",
   "nbconvert_exporter": "python",
   "pygments_lexer": "ipython3",
   "version": "3.13.2"
  }
 },
 "nbformat": 4,
 "nbformat_minor": 5
}
